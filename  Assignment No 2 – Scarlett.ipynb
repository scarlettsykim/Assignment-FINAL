{
 "cells": [
  {
   "cell_type": "markdown",
   "id": "a5369fc0-8b70-42ba-bb08-9436c861b307",
   "metadata": {},
   "source": [
    "# Lab Assignment 2 – Scarlett  200016841 \n",
    "**https://github.com/scarlettsykim/Assignment/blob/main/%20Assignment%20No%202%20%E2%80%93%20Scarlett.ipynb**\n",
    "Note you cannot see the outputs in this repo as files were too large"
   ]
  },
  {
   "cell_type": "markdown",
   "id": "8cffe89e-5fbe-456d-8913-c0aa9e77111a",
   "metadata": {
    "tags": []
   },
   "source": [
    "## Assignment Tasks"
   ]
  },
  {
   "cell_type": "markdown",
   "id": "0794f23f-d4da-41ce-a3b6-7dc9148e0e37",
   "metadata": {},
   "source": [
    "**PYTHON BASICS**"
   ]
  },
  {
   "cell_type": "markdown",
   "id": "f8c250be-4187-4a6a-b1c7-93dd6a5e48c4",
   "metadata": {},
   "source": [
    "**Task 1:**\n",
    "Create an If...Else statement that will test whether a number is divisible by three. \"YOUR VALUE is divisible by 3\" should be printed if the value is divisible by three. \"YOUR VALUE is not divisible by three\" should be printed if it is not divisible by three. Test the statement on a numeric variable. Upper case text in the print statement should be replaced with the tested number."
   ]
  },
  {
   "cell_type": "code",
   "execution_count": null,
   "id": "1eb4b543-92ad-4604-b20c-816611156542",
   "metadata": {},
   "outputs": [],
   "source": [
    "number = 12  # replace with your own value to be tested\n",
    "\n",
    "if number % 3 == 0:\n",
    "    print(str(number) + \" is divisible by 3\")\n",
    "else:\n",
    "    print(str(number) + \" is not divisible by 3\")"
   ]
  },
  {
   "cell_type": "markdown",
   "id": "4f453b04-8bca-4d6f-b7d0-de7ee61f1bc2",
   "metadata": {},
   "source": [
    "**Task 2** Create an If...Else statement that will test whether a type of fruit, represented as a text string, is in a list of acceptable fruits (apple, orange, pear, kiwi, or strawberry). If the fruit is on the list, the following should be printed: \"YOUR FRUIT is acceptable.\" If not, then the following should be printed: \"YOUR FRUIT is not acceptable.\" Upper case text in the print statement should be replaced with the tested fruit."
   ]
  },
  {
   "cell_type": "code",
   "execution_count": null,
   "id": "59d8ec55-cb06-4647-a523-1992f853b58e",
   "metadata": {},
   "outputs": [],
   "source": [
    "fruit = \"banana\"  # replace with your own fruit within \"\" to be tested\n",
    "acceptable_fruits = [\"apple\", \"orange\", \"pear\", \"kiwi\", \"strawberry\"]\n",
    "\n",
    "if fruit in acceptable_fruits:\n",
    "    print(str(fruit) + \" is acceptable\")\n",
    "else:\n",
    "    print(str(fruit) + \" is not acceptable\")"
   ]
  },
  {
   "cell_type": "markdown",
   "id": "534dd116-b053-4bd3-9cc6-5060c3ca6f07",
   "metadata": {},
   "source": [
    "**Task 3** Create a function to calculate the distance between two coordinates using the haversine formula. Write the following formula where the input parameters are a pair of coordinates as two lists."
   ]
  },
  {
   "cell_type": "code",
   "execution_count": null,
   "id": "3a088d1a-92f4-45c5-8638-f0c898e1f3c2",
   "metadata": {},
   "outputs": [],
   "source": [
    "#Import necessary individual functions from math module\n",
    "from math import radians, sin, cos, sqrt, atan2\n",
    "\n",
    "#Define the function\n",
    "def haversine(coord1, coord2):\n",
    "    \n",
    "    # Earth radius in kilometers\n",
    "    R = 6371\n",
    "    \n",
    "    # Convert coordinates to radians\n",
    "    lat1 = radians(coord1[0])\n",
    "    lon1 = radians(coord1[1])\n",
    "    lat2 = radians(coord2[0])\n",
    "    lon2 = radians(coord2[1])\n",
    "    \n",
    "    # Calculate differences between coordinates\n",
    "    dlat = lat2 - lat1\n",
    "    dlon = lon2 - lon1\n",
    "    \n",
    "    # Haversine formula\n",
    "    a = sin(dlat/2)**2 + cos(lat1) * cos(lat2) * sin(dlon/2)**2\n",
    "    c = 2 * atan2(sqrt(a), sqrt(1-a))\n",
    "    distance = R * c\n",
    "    \n",
    "    return distance\n",
    "\n",
    "# Input coordinates here\n",
    "coord1 = [40, -74]\n",
    "coord2 = [34, 118]\n",
    "\n",
    "# Calculate distance using haversine formula\n",
    "distance = haversine(coord1, coord2)\n",
    "\n",
    "print(f\"The distance between Coordinates 1 and Coordinates 2 is {distance:.2f} km.\")"
   ]
  },
  {
   "cell_type": "markdown",
   "id": "c20d579a-f9f0-4561-a01f-46f38e9b7674",
   "metadata": {},
   "source": [
    "**PANDAS AND NUMPY**"
   ]
  },
  {
   "cell_type": "code",
   "execution_count": null,
   "id": "2fee4b62-0b83-4e24-b611-a8f92b94514d",
   "metadata": {},
   "outputs": [],
   "source": [
    "#Import NumPy and Pandas to use in code\n",
    "import numpy as np\n",
    "import pandas as pd"
   ]
  },
  {
   "cell_type": "code",
   "execution_count": null,
   "id": "b21964bd-8c16-4ddd-8e16-56f1cd6d704c",
   "metadata": {
    "tags": []
   },
   "outputs": [],
   "source": [
    "#Import the data file\n",
    "trees_df = pd.read_csv(\"portland_park_trees.csv\", sep=\",\", header=0, encoding=\"ISO-8859-1\")\n",
    "trees_df.head(3)"
   ]
  },
  {
   "cell_type": "code",
   "execution_count": null,
   "id": "c9c91b74-15c7-4fec-8c09-43221b72e41b",
   "metadata": {},
   "outputs": [],
   "source": [
    "#See how many rows and columns are in the dataframe: 25,534 rows and 40 columns\n",
    "trees_df.shape"
   ]
  },
  {
   "cell_type": "markdown",
   "id": "1833e583-7a52-4031-90ec-23539a7d04df",
   "metadata": {},
   "source": [
    "**Question 1:** How many trees are of the Quercus or Acer genus?"
   ]
  },
  {
   "cell_type": "code",
   "execution_count": null,
   "id": "05621029-e040-498b-9e3f-af0804b4782e",
   "metadata": {},
   "outputs": [],
   "source": [
    "# Select the rows where the genus is Quercus or Acer\n",
    "quercus_acer = trees_df[trees_df['Genus'].isin(['Quercus', 'Acer'])]\n",
    "\n",
    "# Count the number of rows in the resulting dataframe\n",
    "num_quercus_acer = len(quercus_acer)\n",
    "\n",
    "# Print the result\n",
    "print(\"Number of Quercus or Acer trees:\", num_quercus_acer)"
   ]
  },
  {
   "cell_type": "markdown",
   "id": "4d8f95d4-7647-4137-b475-0e0f2c5f6bf0",
   "metadata": {},
   "source": [
    "**Question 2:** How many trees are of the Quercus or Acer genus and have a DBH larger than 50 inches?"
   ]
  },
  {
   "cell_type": "code",
   "execution_count": null,
   "id": "d4626743-d934-45ec-9c48-24d62f274d36",
   "metadata": {},
   "outputs": [],
   "source": [
    "#Make a query for Quercus and Acer with DBH larger than 50.\n",
    "num_quercus_acer50 = quercus_acer.query('DBH > 50')\n",
    "\n",
    "#Count the number of rows in the resulting dataframe\n",
    "quercus_acer_50 = (len(num_quercus_acer50))\n",
    "\n",
    "#Print the result\n",
    "print(\"Number of Quercus or Acer genus that have a DBH larger than 50 inches:\", quercus_acer_50)"
   ]
  },
  {
   "cell_type": "markdown",
   "id": "840bf630-5e2e-47d8-ac55-058ede0485c4",
   "metadata": {},
   "source": [
    "**Question 3:** Which genus has the highest mean DBH of the following genera: Quercus, Acer, or Fraxinus?"
   ]
  },
  {
   "cell_type": "code",
   "execution_count": null,
   "id": "58f5ae64-ba60-4914-858e-d2f2982d8224",
   "metadata": {},
   "outputs": [],
   "source": [
    "# Create a list of the three chosen genera\n",
    "genera = ['Quercus', 'Acer', 'Fraxinus']\n",
    "\n",
    "# Filter the dataset to only include the chosen genera\n",
    "chosen_data = trees_df[trees_df['Genus'].isin(genera)]\n",
    "\n",
    "# Calculate the mean DBH for each genus\n",
    "mean_diameter = chosen_data.groupby('Genus')['DBH'].mean()\n",
    "\n",
    "# Determine which genus has the highest mean DBH\n",
    "highest_mean_DBH = mean_diameter.idxmax()\n",
    "\n",
    "#Print the result\n",
    "print(\"The genus with the highest mean DBH is:\", highest_mean_DBH)"
   ]
  },
  {
   "cell_type": "markdown",
   "id": "0dbca238-e2b0-40a8-a8ae-9379ca515dbe",
   "metadata": {},
   "source": [
    "**Question 4:** How many different species of trees are recorded in the Acer genus?"
   ]
  },
  {
   "cell_type": "code",
   "execution_count": null,
   "id": "c1de79e9-c0f9-4e38-ac78-399ec6bb2388",
   "metadata": {
    "tags": []
   },
   "outputs": [],
   "source": [
    "# Filter the dataset to only include the Acer genus\n",
    "acer_data = trees_df[trees_df[\"Genus\"] == \"Acer\"]\n",
    "acer_data.head(5)\n",
    "\n",
    "# Count the number of occurrences of each species in the Acer genus\n",
    "species_count = acer_data['Species'].value_counts()\n",
    "\n",
    "# Count the number of unique species in the Acer genus\n",
    "num_species = len(species_count)\n",
    "\n",
    "#Print the result\n",
    "print(\"The number of different species in the Acer genus is:\", num_species)"
   ]
  },
  {
   "cell_type": "markdown",
   "id": "ace658ff-5fe5-4d84-95de-92f320fc826b",
   "metadata": {},
   "source": [
    "**Question 5:**"
   ]
  },
  {
   "cell_type": "code",
   "execution_count": null,
   "id": "c38401b0-493c-48dc-9adc-0c39cb2dc450",
   "metadata": {},
   "outputs": [],
   "source": [
    "#Import the data file\n",
    "cities_df = pd.read_csv(\"world_cities.csv\", sep=\",\", header=0, encoding=\"ISO-8859-1\")\n",
    "cities_df.head(3)"
   ]
  },
  {
   "cell_type": "markdown",
   "id": "6c32153b-467c-45ce-985b-38f87008ca80",
   "metadata": {},
   "source": [
    "**a.** Calculate a new column named \"pop_M\" (population in millions), by transforming the \"pop\" (population) column."
   ]
  },
  {
   "cell_type": "code",
   "execution_count": null,
   "id": "62ec9a2f-43aa-4e1f-b336-16e7584587a7",
   "metadata": {},
   "outputs": [],
   "source": [
    "#Create a new column \"pop_M\" with population values in millions\n",
    "cities_df['pop_M'] = cities_df['pop'] / 1000000\n",
    "\n",
    "# Print the updated DataFrame\n",
    "cities_df.head(3)"
   ]
  },
  {
   "cell_type": "markdown",
   "id": "b50f4c1a-6e5f-4854-86d7-eba77d2a8c08",
   "metadata": {},
   "source": [
    "**b.** Remove the original \"pop\" column."
   ]
  },
  {
   "cell_type": "code",
   "execution_count": null,
   "id": "dd82f15e-d043-4ac9-9f34-fab200399114",
   "metadata": {},
   "outputs": [],
   "source": [
    "cities_df = cities_df.drop(columns=['pop'])\n",
    "\n",
    "# Print the updated DataFrame\n",
    "cities_df.head(3)"
   ]
  },
  {
   "cell_type": "markdown",
   "id": "cb5a65a1-2fc7-472f-b421-9b37def0e22a",
   "metadata": {},
   "source": [
    "**c.** Choose/subset a city that starts with the same letter as your first name (for example,\n",
    "\"Mexico City\" if your first name is Michael)."
   ]
  },
  {
   "cell_type": "code",
   "execution_count": null,
   "id": "f816f9aa-9ab4-4531-b8c6-69f47876c8bb",
   "metadata": {},
   "outputs": [],
   "source": [
    "#Choose city that starts with the letter 's' by looking at raw csv - i chose Saa, Cameroon.\n",
    "#Subset the rows where city is Saa\n",
    "saa_df = cities_df[cities_df['city'] == 'Saa']\n",
    "\n",
    "#Print the updated DataFrame\n",
    "print(saa_df)"
   ]
  },
  {
   "cell_type": "markdown",
   "id": "3c5ad970-9fb6-4096-8871-8ad728227682",
   "metadata": {},
   "source": [
    "**d.** \n",
    "Subset the five biggest (i.e., largest population sizes) cities from the country where your\n",
    "selected city is."
   ]
  },
  {
   "cell_type": "code",
   "execution_count": null,
   "id": "aa3994d4-2118-414b-96dd-9065e833e04e",
   "metadata": {},
   "outputs": [],
   "source": [
    "#Select the country where selected city is\n",
    "country = \"Cameroon\" \n",
    "\n",
    "#Subset the 5 biggest cities in Cameroon\n",
    "cameroon = cities_df[cities_df['country'] == country]\n",
    "top5 = cameroon.nlargest(5, 'pop_M')\n",
    "\n",
    "#Print result\n",
    "print(top5)"
   ]
  },
  {
   "cell_type": "markdown",
   "id": "673cfe27-5beb-46ee-8e6e-02a15991022f",
   "metadata": {},
   "source": [
    "**PYTHON DATA VISUALISATION**"
   ]
  },
  {
   "cell_type": "markdown",
   "id": "70703f4e-252f-4e16-8aa5-e7f5de7ae8e3",
   "metadata": {},
   "source": [
    "**Graph 1:** Create a scatterplot for just trees in the Ulmus genus with DBH mapped to the x-axis and tree height mapped to the y-axis (Hint: You will need to use the “Genus”, “DBH”, and “TreeHeight” attributes.)."
   ]
  },
  {
   "cell_type": "code",
   "execution_count": null,
   "id": "8c825bd4-c555-4be5-9e72-c815c0a20b4a",
   "metadata": {},
   "outputs": [],
   "source": [
    "import pandas as pd\n",
    "import matplotlib.pyplot as plt\n",
    "\n",
    "#Import the dataset\n",
    "trees = pd.read_csv(\"portland_park_trees.csv\")\n",
    "\n",
    "#Subset the dataset for Ulmus genus\n",
    "ulmus = trees[(trees[\"Genus\"]==\"Ulmus\")]\n",
    "\n",
    "#Create the scatterplot using Panda library\n",
    "ulmus_plot = ulmus.plot.scatter(x=\"DBH\", y=\"TreeHeight\")\n",
    "ulmus_plot.set_xlabel(\"Diameter at Breast Height\")\n",
    "ulmus_plot.set_ylabel(\"Tree Height\")\n",
    "ulmus_plot.set_title(\"Ulmus genus: DBH vs. Tree Height\", fontsize=20, color=\"#000000\")\n",
    "plt.show(ulmus_plot)"
   ]
  },
  {
   "cell_type": "markdown",
   "id": "950e0c60-a229-476b-86a4-b37ee54249a3",
   "metadata": {},
   "source": [
    "**Graph 2:** Create a scatterplot for just trees in the Ulmus genus with DBH mapped to the x-axis, tree height mapped to the y-axis, and tree species mapped to hue (Hint: You will need to use the “Genus”, “Genus_spec”, “DBH”, and “TreeHeight” attributes.)"
   ]
  },
  {
   "cell_type": "code",
   "execution_count": null,
   "id": "1aa562a7-786d-453d-b714-fda1a99eeaf3",
   "metadata": {},
   "outputs": [],
   "source": [
    "import pandas as pd\n",
    "import seaborn as sns\n",
    "\n",
    "#Create a scatter plot using Seaborn library\n",
    "plt.rcParams['figure.figsize'] = [25, 12] \n",
    "hue_plot = sns.scatterplot (x=\"DBH\", y=\"TreeHeight\", hue=\"Genus_spec\" , data=ulmus) #data is using the subset from graph 1\n",
    "hue_plot.set_xlabel(\"Diameter at Breast Height\")\n",
    "hue_plot.set_ylabel(\"Tree Height\")\n",
    "hue_plot.set_title(\"DBH vs. Tree Height (showing mapped tree species)\", fontsize=20, color=\"#000000\")\n",
    "handles, labels = hue_plot.get_legend_handles_labels()\n",
    "hue_plot.legend(handles=handles[1:], labels=labels[1:], title=\"Tree species\", title_fontsize=12)\n",
    "plt.show(hue_plot)"
   ]
  },
  {
   "cell_type": "markdown",
   "id": "ae9c833f-882e-4d8c-a4db-115b3bc52af0",
   "metadata": {},
   "source": [
    "**Graph 3:** Create a boxplot of DBH for just the Ulmus genus differentiated by species (or, each species should have its own boxplot)."
   ]
  },
  {
   "cell_type": "code",
   "execution_count": null,
   "id": "0e7dd568-6cda-49c8-91b4-49e10729cd17",
   "metadata": {},
   "outputs": [],
   "source": [
    "import pandas as pd\n",
    "import seaborn as sns\n",
    "\n",
    "#Use subset data from graph 1 (data=ulmus)\n",
    "\n",
    "#Create a boxplot using Seaborn library\n",
    "plt.rcParams['figure.figsize'] = [25, 12] #Change the default plot size.\n",
    "boxplot = sns.boxplot(x='Genus_spec', y='DBH', data=ulmus)\n",
    "boxplot.set_ylabel(\"Diameter at Breast Height\")\n",
    "boxplot.set_xlabel(\"Tree Species\")\n",
    "boxplot.set_title(\"Ulmus genus differentiated by species\", fontsize=20, color=\"#000000\")"
   ]
  },
  {
   "cell_type": "markdown",
   "id": "4766601a-4e09-47b6-9d4b-23f8623c8115",
   "metadata": {},
   "source": [
    "**Graph 4:** Combine Graphs 1 and 3 into a single figure. **Do not plot a legend for any of the graphs**."
   ]
  },
  {
   "cell_type": "code",
   "execution_count": null,
   "id": "eea7e629-fd0c-4d92-a07b-02ba5f89b063",
   "metadata": {},
   "outputs": [],
   "source": [
    "plt.rcParams['figure.figsize'] = [50, 12] #Change the default plot size.\n",
    "fig, axs = plt.subplots(1, 2) #Create the subplots\n",
    "\n",
    "#Plot the data from graph 1\n",
    "ulmus_plot = ulmus.plot.scatter(x=\"DBH\", y=\"TreeHeight\", ax=axs[0]) #Add which axis to plot in\n",
    "ulmus_plot.set_xlabel(\"Diameter at Breast Height\")\n",
    "ulmus_plot.set_ylabel(\"Tree Height\")\n",
    "ulmus_plot.set_title(\"Ulmus genus: DBH vs. Tree Height\", fontsize=20, color=\"#000000\")\n",
    "\n",
    "#Plot the data from graph 3\n",
    "plt.rcParams['figure.figsize'] = [25, 12] #Change the default plot size.\n",
    "boxplot = sns.boxplot(x='Genus_spec', y='DBH', data=ulmus , ax=axs[1]) #Add which axis to plot in\n",
    "boxplot.set_ylabel(\"Diameter at Breast Height\")\n",
    "boxplot.set_xlabel(\"Tree Species\")\n",
    "boxplot.set_title(\"Ulmus genus differentiated by species\", fontsize=20, color=\"#000000\")\n",
    "\n",
    "plt.show() #Graphs are small so x axis labels on boxplot are legible."
   ]
  },
  {
   "cell_type": "markdown",
   "id": "a1774a32-0fc6-46dd-bb47-bfcb0221668c",
   "metadata": {},
   "source": [
    "**PYTHON GEOPANDAS**"
   ]
  },
  {
   "cell_type": "markdown",
   "id": "05ea76f6-8084-4c9b-bba5-f72293e4d7d5",
   "metadata": {},
   "source": [
    "**Task 1:** Read the selected dataset as GeoPandas DataFrame"
   ]
  },
  {
   "cell_type": "code",
   "execution_count": null,
   "id": "3a558c57-6786-4e0a-9b08-f3b25e9ef3e7",
   "metadata": {},
   "outputs": [],
   "source": [
    "#Import all the libraries\n",
    "import numpy as np\n",
    "import pandas as pd\n",
    "import matplotlib.pyplot as plt\n",
    "%matplotlib inline\n",
    "import geopandas as gpd\n",
    "import contextily as ctx\n",
    "import rasterio as rio\n",
    "from rasterio import plot\n",
    "\n",
    "plt.rcParams['figure.figsize'] = [10, 8]"
   ]
  },
  {
   "cell_type": "code",
   "execution_count": null,
   "id": "cd228761-ba9a-4d9c-8e0f-cd14df319190",
   "metadata": {
    "tags": []
   },
   "outputs": [],
   "source": [
    "#Import dataset as geopandas dataframe - data is Ancient Woodland Inventory (Scotland)\n",
    "woodland_inv = gpd.read_file('AWI_SCOTLAND_ESRI/AWI_SCOTLAND.shp')\n",
    "woodland_inv.plot() #Display the data"
   ]
  },
  {
   "cell_type": "markdown",
   "id": "05a1f910-bbe7-41b2-b1de-10fe26994c1d",
   "metadata": {},
   "source": [
    "**Task 2:** Use the correct code to plot the first 5 and the last 5 sets of records in your selected dataset.\n"
   ]
  },
  {
   "cell_type": "code",
   "execution_count": null,
   "id": "4a23df82-3c7f-4e2d-9531-238542e25ef8",
   "metadata": {
    "tags": []
   },
   "outputs": [],
   "source": [
    "woodland_inv.head() #Check structure of data"
   ]
  },
  {
   "cell_type": "code",
   "execution_count": null,
   "id": "81a46f08-914f-4d8b-ba69-20906675fcbf",
   "metadata": {
    "tags": []
   },
   "outputs": [],
   "source": [
    "# Plot the first 5 records\n",
    "woodland_inv.head(5).plot()\n",
    "\n",
    "# Plot the last 5 records\n",
    "woodland_inv.tail(5).plot()\n",
    "\n",
    "# Show the plots\n",
    "plt.show()"
   ]
  },
  {
   "cell_type": "markdown",
   "id": "3c308643-b17a-4e26-9bdd-f6c5d50bd8f2",
   "metadata": {},
   "source": [
    "**Task 3:** Create a map where you can explore the selected dataset. Try to plot the map using some categorical attribute. Include a ToolTip."
   ]
  },
  {
   "cell_type": "code",
   "execution_count": null,
   "id": "2d0c8103-3362-414c-8133-27887ffe8dec",
   "metadata": {
    "tags": []
   },
   "outputs": [],
   "source": [
    "#Plot using the catergorical attrubute \"DISTRICT\"\n",
    "woodland_inv.explore(column='DISTRICT', cmap='RdYlBu')"
   ]
  },
  {
   "cell_type": "markdown",
   "id": "807d14a2-b835-43ec-ab63-611622d57d7d",
   "metadata": {},
   "source": [
    "**Task 4:** What is the Coordinate Reference System of the selected dataset?"
   ]
  },
  {
   "cell_type": "code",
   "execution_count": null,
   "id": "b01183d3-d7d8-44dc-b707-ec059c48b840",
   "metadata": {
    "tags": []
   },
   "outputs": [],
   "source": [
    "crs = woodland_inv.crs\n",
    "print(\"The Coordinate Reference System of the selected dataset is:\",crs)"
   ]
  },
  {
   "cell_type": "markdown",
   "id": "ee9d90f8-864a-4747-a727-3a4c8bb5a4db",
   "metadata": {},
   "source": [
    "**Task 5:** How many features does the selected dataset contain?"
   ]
  },
  {
   "cell_type": "code",
   "execution_count": null,
   "id": "64a60dff-0533-4816-bf1f-173e172922a1",
   "metadata": {},
   "outputs": [],
   "source": [
    "total_features = len(woodland_inv)\n",
    "print(\"The dataset has\",total_features,\"features\")"
   ]
  },
  {
   "cell_type": "markdown",
   "id": "1f278b41-d83a-46ca-8f83-bfda882138bd",
   "metadata": {},
   "source": [
    "**Task 6:** Define a sub-setting criterion to create a new geopandas dataframe where you filter the selected dataset based on a **categorical attribute**."
   ]
  },
  {
   "cell_type": "code",
   "execution_count": null,
   "id": "d969746e-d84a-43bb-a819-dd47e83618d4",
   "metadata": {},
   "outputs": [],
   "source": [
    "#The sub-setting criterion is 'KINCARDINE&DEES' with the categorical attribute being DISTRICT\n",
    "#Subset the rows where District is 'KINCARDINE&DEES'\n",
    "New_sample = woodland_inv['DISTRICT'] == 'KINCARDINE&DEES'\n",
    "New_sample"
   ]
  },
  {
   "cell_type": "code",
   "execution_count": null,
   "id": "b0f68c61-51c2-406c-80c3-24df811d9e05",
   "metadata": {
    "tags": []
   },
   "outputs": [],
   "source": [
    "New_GDF = woodland_inv[New_sample]\n",
    "New_GDF.to_crs(\"EPSG:27700\")\n",
    "New_GDF #the New_GDF now contains only the rows with DISTRICT = KINCARDINE&DEES"
   ]
  },
  {
   "cell_type": "code",
   "execution_count": null,
   "id": "6696c938-279c-4502-b385-00ff50cddcc8",
   "metadata": {},
   "outputs": [],
   "source": [
    "print(New_GDF.crs)"
   ]
  },
  {
   "cell_type": "markdown",
   "id": "cfd6fe6b-1855-4634-a008-3a6a66af8f20",
   "metadata": {},
   "source": [
    "**Task 7:** Define a sub-setting criterion to create a new geopandas dataframe where you filter the selected dataset based on a **numerical attribute**."
   ]
  },
  {
   "cell_type": "code",
   "execution_count": null,
   "id": "af2b9127-11b4-4dea-bae7-40a7f41ac325",
   "metadata": {},
   "outputs": [],
   "source": [
    "#The sub-setting criterion is 'HECTARE > 5' with the categorical attribute being HECTARE\n",
    "#Subset the rows where Hectare is > 5\n",
    "hectare_5 = woodland_inv['HECTARE'] > 5\n",
    "hectare_5"
   ]
  },
  {
   "cell_type": "code",
   "execution_count": null,
   "id": "0c026def-cc88-4222-9750-d08e7d1378c4",
   "metadata": {
    "tags": []
   },
   "outputs": [],
   "source": [
    "New_hectare =  woodland_inv[hectare_5]\n",
    "New_hectare #the New_hectare now contains only the rows with HECTARE > 5"
   ]
  },
  {
   "cell_type": "code",
   "execution_count": null,
   "id": "178c1cae-6b4c-4785-b8f9-f308b04a3f4d",
   "metadata": {},
   "outputs": [],
   "source": [
    "print(New_hectare.crs)"
   ]
  },
  {
   "cell_type": "markdown",
   "id": "41c62669-a536-4f39-89f6-aabdbcde05d1",
   "metadata": {},
   "source": [
    "**Task 8:** Plot the new/filtered geopandas dataframe using one of the attributes to create a choropleth map."
   ]
  },
  {
   "cell_type": "code",
   "execution_count": null,
   "id": "d02c7fb7-1429-4c72-a42b-af59073eb701",
   "metadata": {
    "tags": []
   },
   "outputs": [],
   "source": [
    "plot = New_hectare.plot(column=\"HECTARE\", cmap=\"plasma\", scheme=\"NaturalBreaks\", legend=True)\n",
    "plot.set_title('Choropleth Map of Woodland Hectare Size more than 5 Hectares')"
   ]
  },
  {
   "cell_type": "markdown",
   "id": "eb3976cc-2e66-43c0-a6a1-fc642caa0975",
   "metadata": {},
   "source": [
    "**PYTHON RASTERIO**"
   ]
  },
  {
   "cell_type": "markdown",
   "id": "acfee03d-b75a-4df4-8701-e359919b4dd2",
   "metadata": {},
   "source": [
    "**Task 1:** Read the file as a rasterio dataset"
   ]
  },
  {
   "cell_type": "code",
   "execution_count": null,
   "id": "3a62a8a7-ab30-46e0-b2db-5fc2c875f6b7",
   "metadata": {},
   "outputs": [],
   "source": [
    "eleve = rio.open('Assignment 2 Data/elev.tif')\n",
    "print(eleve.name)\n",
    "print(eleve.width)\n",
    "print(eleve.height)\n",
    "#elev.close()\n",
    "\n",
    "eleve_arr = eleve.read(1)\n",
    "eleve_arr"
   ]
  },
  {
   "cell_type": "markdown",
   "id": "71adbc5d-d96e-459c-868d-5162918423ae",
   "metadata": {},
   "source": [
    "**Task 2:** What is the CRS of the dataset?"
   ]
  },
  {
   "cell_type": "code",
   "execution_count": null,
   "id": "5104d1d7-5011-473f-8568-ac70d4ae857f",
   "metadata": {},
   "outputs": [],
   "source": [
    "crs = eleve.crs\n",
    "print(\"The Coordinate Reference System of this dataset is:\",crs)"
   ]
  },
  {
   "cell_type": "markdown",
   "id": "cfefe220-8a59-45eb-8e6f-5bac69d04aac",
   "metadata": {},
   "source": [
    "**Task 3:** Describe the raster dataset regarding the raster extent (bounds), the reference system, and how many bands are in this dataset."
   ]
  },
  {
   "cell_type": "code",
   "execution_count": null,
   "id": "60c55fe4-775b-4c2e-8e00-980229639e34",
   "metadata": {},
   "outputs": [],
   "source": [
    "#Raster extent\n",
    "bounds = eleve.bounds\n",
    "print(\"The raster extent is:\", bounds)\n",
    "print(\" \")\n",
    "\n",
    "#The reference system\n",
    "crs = eleve.crs\n",
    "print(\"The reference system is a coordinate reference system\")\n",
    "print(\"The Coordinate Reference System of this dataset is:\",crs)\n",
    "print(\" \")\n",
    "\n",
    "#How many bands are in the dataset\n",
    "bands = eleve.count\n",
    "print(\"There is\", bands, \"band in the dataset\")"
   ]
  },
  {
   "cell_type": "markdown",
   "id": "ab405629-e192-4d24-ac42-a873c6286cbf",
   "metadata": {},
   "source": [
    "**Task 4:** Create a plot/map of the raster dataset."
   ]
  },
  {
   "cell_type": "code",
   "execution_count": null,
   "id": "ab8d6ed2-5f7b-43b8-9349-55baabfc52f0",
   "metadata": {},
   "outputs": [],
   "source": [
    "import earthpy as et\n",
    "import earthpy.spatial as es\n",
    "import earthpy.plot as ep"
   ]
  },
  {
   "cell_type": "code",
   "execution_count": null,
   "id": "71989fc3-5eb0-4a9e-800f-a80ec2db2570",
   "metadata": {},
   "outputs": [],
   "source": [
    "eleve_arr = eleve.read(1)\n",
    "eleve_arr\n",
    "\n",
    "# Plot your data using earthpy\n",
    "ep.plot_bands(eleve_arr,\n",
    "              title=\"Digital Elevation Model (DEM)\",\n",
    "              cmap=\"gist_earth\")\n",
    "\n",
    "plt.show()"
   ]
  },
  {
   "cell_type": "code",
   "execution_count": null,
   "id": "1a58f986-dc06-4fb8-aae3-7651d725e2a2",
   "metadata": {},
   "outputs": [],
   "source": [
    "print(\"the minimum raster value is: \", eleve_arr.min())\n",
    "print(\"the maximum raster value is: \", eleve_arr.max())"
   ]
  },
  {
   "cell_type": "markdown",
   "id": "76974e71-6017-413d-a523-8812fb72a6ff",
   "metadata": {},
   "source": [
    "**Task 5:** Create histograms from the raster"
   ]
  },
  {
   "cell_type": "code",
   "execution_count": null,
   "id": "75b8c3b0-3cb7-4493-9ffe-ffde1e75d067",
   "metadata": {},
   "outputs": [],
   "source": [
    "crop_arr = eleve.read()\n",
    "print(crop_arr.shape)"
   ]
  },
  {
   "cell_type": "code",
   "execution_count": null,
   "id": "e30748aa-cffd-4871-a74d-8c34bc928c72",
   "metadata": {},
   "outputs": [],
   "source": [
    "ep.hist(eleve_arr,\n",
    "        figsize=(10, 6), bins=50)\n",
    "plt.title('Histogram of Raster Data')\n",
    "plt.xlabel('Pixel Values')\n",
    "plt.ylabel('Frequency')\n",
    "plt.show()"
   ]
  },
  {
   "cell_type": "code",
   "execution_count": null,
   "id": "3a931180-1e7d-48af-b930-896a12c2b5bb",
   "metadata": {},
   "outputs": [],
   "source": []
  }
 ],
 "metadata": {
  "kernelspec": {
   "display_name": "Python 3 (ipykernel)",
   "language": "python",
   "name": "python3"
  },
  "language_info": {
   "codemirror_mode": {
    "name": "ipython",
    "version": 3
   },
   "file_extension": ".py",
   "mimetype": "text/x-python",
   "name": "python",
   "nbconvert_exporter": "python",
   "pygments_lexer": "ipython3",
   "version": "3.10.9"
  }
 },
 "nbformat": 4,
 "nbformat_minor": 5
}
